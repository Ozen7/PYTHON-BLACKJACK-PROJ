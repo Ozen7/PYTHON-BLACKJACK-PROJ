{
 "cells": [
  {
   "cell_type": "markdown",
   "metadata": {
    "collapsed": true
   },
   "source": [
    "# Milestone Project 2 - Walkthrough Steps Workbook\n",
    "Below is a set of steps for you to follow to try to create the Blackjack Milestone Project game!"
   ]
  },
  {
   "cell_type": "markdown",
   "metadata": {},
   "source": [
    "## Game Play\n",
    "To play a hand of Blackjack the following steps must be followed:\n",
    "1. Create a deck of 52 cards\n",
    "2. Shuffle the deck\n",
    "3. Ask the Player for their bet\n",
    "4. Make sure that the Player's bet does not exceed their available chips\n",
    "5. Deal two cards to the Dealer and two cards to the Player\n",
    "6. Show only one of the Dealer's cards, the other remains hidden\n",
    "7. Show both of the Player's cards\n",
    "8. Ask the Player if they wish to Hit, and take another card\n",
    "9. If the Player's hand doesn't Bust (go over 21), ask if they'd like to Hit again.\n",
    "10. If a Player Stands, play the Dealer's hand. The dealer will always Hit until the Dealer's value meets or exceeds 17\n",
    "11. Determine the winner and adjust the Player's chips accordingly\n",
    "12. Ask the Player if they'd like to play again"
   ]
  },
  {
   "cell_type": "markdown",
   "metadata": {},
   "source": [
    "## Playing Cards\n",
    "A standard deck of playing cards has four suits (Hearts, Diamonds, Spades and Clubs) and thirteen ranks (2 through 10, then the face cards Jack, Queen, King and Ace) for a total of 52 cards per deck. Jacks, Queens and Kings all have a rank of 10. Aces have a rank of either 11 or 1 as needed to reach 21 without busting. As a starting point in your program, you may want to assign variables to store a list of suits, ranks, and then use a dictionary to map ranks to values."
   ]
  },
  {
   "cell_type": "markdown",
   "metadata": {},
   "source": [
    "## The Game\n",
    "### Imports and Global Variables\n",
    "** Step 1: Import the random module. This will be used to shuffle the deck prior to dealing. Then, declare variables to store suits, ranks and values. You can develop your own system, or copy ours below. Finally, declare a Boolean value to be used to control <code>while</code> loops. This is a common practice used to control the flow of the game.**\n",
    "\n",
    "    suits = ('Hearts', 'Diamonds', 'Spades', 'Clubs')\n",
    "    ranks = ('Two', 'Three', 'Four', 'Five', 'Six', 'Seven', 'Eight', 'Nine', 'Ten', 'Jack', 'Queen', 'King', 'Ace')\n",
    "    values = {'Two':2, 'Three':3, 'Four':4, 'Five':5, 'Six':6, 'Seven':7, 'Eight':8, 'Nine':9, 'Ten':10, 'Jack':10,\n",
    "             'Queen':10, 'King':10, 'Ace':11}"
   ]
  },
  {
   "cell_type": "code",
   "execution_count": 2,
   "metadata": {
    "collapsed": true
   },
   "outputs": [],
   "source": [
    "b = False\n",
    "import random\n",
    "\n",
    "suits = ('Hearts','Diamonds','Spades','Clubs')\n",
    "ranks = ('Two','Three','Four','Five','Six','Seven','Eight','Nine','Ten','Jack','Queen','King','Ace')\n",
    "values = {'Two':2, 'Three':3, 'Four':4, 'Five':5, 'Six':6, 'Seven':7, 'Eight':8, 'Nine':9, 'Ten':10, 'Jack':10,\n",
    "         'Queen':10, 'King':10, 'Ace':11}\n",
    "\n",
    "playing = True\n"
   ]
  },
  {
   "cell_type": "markdown",
   "metadata": {},
   "source": [
    "### Class Definitions\n",
    "Consider making a Card class where each Card object has a suit and a rank, then a Deck class to hold all 52 Card objects, and can be shuffled, and finally a Hand class that holds those Cards that have been dealt to each player from the Deck."
   ]
  },
  {
   "cell_type": "markdown",
   "metadata": {},
   "source": [
    "**Step 2: Create a Card Class**<br>\n",
    "A Card object really only needs two attributes: suit and rank. You might add an attribute for \"value\" - we chose to handle value later when developing our Hand class.<br>In addition to the Card's \\_\\_init\\_\\_ method, consider adding a \\_\\_str\\_\\_ method that, when asked to print a Card, returns a string in the form \"Two of Hearts\""
   ]
  },
  {
   "cell_type": "code",
   "execution_count": 3,
   "metadata": {},
   "outputs": [
    {
     "name": "stdout",
     "output_type": "stream",
     "text": [
      "Ace of Spades\n"
     ]
    }
   ],
   "source": [
    "class Card:\n",
    "    \n",
    "    def __init__(self,suit,rank):\n",
    "        self.suit = suit\n",
    "        self.rank = rank\n",
    "    \n",
    "    def __str__(self):\n",
    "        return self.rank + \" of \" + self.suit\n",
    "print(Card(\"Spades\",'Ace'))"
   ]
  },
  {
   "cell_type": "markdown",
   "metadata": {},
   "source": [
    "**Step 3: Create a Deck Class**<br>\n",
    "Here we might store 52 card objects in a list that can later be shuffled. First, though, we need to *instantiate* all 52 unique card objects and add them to our list. So long as the Card class definition appears in our code, we can build Card objects inside our Deck \\_\\_init\\_\\_ method. Consider iterating over sequences of suits and ranks to build out each card. This might appear inside a Deck class \\_\\_init\\_\\_ method:\n",
    "\n",
    "    for suit in suits:\n",
    "        for rank in ranks:\n",
    "\n",
    "In addition to an \\_\\_init\\_\\_ method we'll want to add methods to shuffle our deck, and to deal out cards during gameplay.<br><br>\n",
    "OPTIONAL: We may never need to print the contents of the deck during gameplay, but having the ability to see the cards inside it may help troubleshoot any problems that occur during development. With this in mind, consider adding a \\_\\_str\\_\\_ method to the class definition."
   ]
  },
  {
   "cell_type": "code",
   "execution_count": 4,
   "metadata": {},
   "outputs": [
    {
     "name": "stdout",
     "output_type": "stream",
     "text": [
      "Three of Clubs\n"
     ]
    }
   ],
   "source": [
    "class Deck:\n",
    "    \n",
    "    def __init__(self,suits,ranks):\n",
    "        self.deck = []   # start with an empty list\n",
    "        for suit in suits:\n",
    "            for rank in ranks:\n",
    "                self.deck.append(Card(suit,rank))\n",
    "    \n",
    "    def __str__(self):\n",
    "        return str(self.deck)\n",
    "        \n",
    "    def shuffle(self):\n",
    "        random.shuffle(self.deck)\n",
    "        \n",
    "    def deal(self):\n",
    "        return self.deck.pop(0)\n",
    "y = Deck(suits,ranks)\n",
    "y.shuffle()\n",
    "card = y.deal()\n",
    "print(card)"
   ]
  },
  {
   "cell_type": "markdown",
   "metadata": {},
   "source": [
    "TESTING: Just to see that everything works so far, let's see what our Deck looks like!"
   ]
  },
  {
   "cell_type": "code",
   "execution_count": 5,
   "metadata": {},
   "outputs": [
    {
     "name": "stdout",
     "output_type": "stream",
     "text": [
      "[<__main__.Card object at 0x000001D1476C6B70>, <__main__.Card object at 0x000001D1476C6630>, <__main__.Card object at 0x000001D1476C65F8>, <__main__.Card object at 0x000001D1476C6390>, <__main__.Card object at 0x000001D1476C6278>, <__main__.Card object at 0x000001D1476C6550>, <__main__.Card object at 0x000001D1476C6320>, <__main__.Card object at 0x000001D1476C6898>, <__main__.Card object at 0x000001D1476C6940>, <__main__.Card object at 0x000001D1476C6FD0>, <__main__.Card object at 0x000001D1476C6D68>, <__main__.Card object at 0x000001D1476C6860>, <__main__.Card object at 0x000001D1476C6F98>, <__main__.Card object at 0x000001D1476C6CC0>, <__main__.Card object at 0x000001D1476C6F28>, <__main__.Card object at 0x000001D1476C6F60>, <__main__.Card object at 0x000001D1476C6EB8>, <__main__.Card object at 0x000001D1476C6EF0>, <__main__.Card object at 0x000001D14762F7B8>, <__main__.Card object at 0x000001D14762F5C0>, <__main__.Card object at 0x000001D1476D2908>, <__main__.Card object at 0x000001D1476D2B00>, <__main__.Card object at 0x000001D1476D2B70>, <__main__.Card object at 0x000001D1476D2B38>, <__main__.Card object at 0x000001D1476D2080>, <__main__.Card object at 0x000001D1476D20B8>, <__main__.Card object at 0x000001D1476D2048>, <__main__.Card object at 0x000001D1476D20F0>, <__main__.Card object at 0x000001D1476D2198>, <__main__.Card object at 0x000001D1476D21D0>, <__main__.Card object at 0x000001D1476D2278>, <__main__.Card object at 0x000001D1476D22B0>, <__main__.Card object at 0x000001D1476D2208>, <__main__.Card object at 0x000001D1476D2240>, <__main__.Card object at 0x000001D1476D2128>, <__main__.Card object at 0x000001D1476D2160>, <__main__.Card object at 0x000001D1476D22E8>, <__main__.Card object at 0x000001D1476D2390>, <__main__.Card object at 0x000001D1476D23C8>, <__main__.Card object at 0x000001D1476D24A8>, <__main__.Card object at 0x000001D1476D2400>, <__main__.Card object at 0x000001D1476D2438>, <__main__.Card object at 0x000001D1476D2470>, <__main__.Card object at 0x000001D1476D2320>, <__main__.Card object at 0x000001D1476D2358>, <__main__.Card object at 0x000001D1476D24E0>, <__main__.Card object at 0x000001D1476D2550>, <__main__.Card object at 0x000001D1476D25C0>, <__main__.Card object at 0x000001D1476D25F8>, <__main__.Card object at 0x000001D1476D2588>, <__main__.Card object at 0x000001D1476D2518>, <__main__.Card object at 0x000001D1476D2630>]\n"
     ]
    }
   ],
   "source": [
    "test_deck = Deck(suits,ranks)\n",
    "print(test_deck)"
   ]
  },
  {
   "cell_type": "markdown",
   "metadata": {},
   "source": [
    "Great! Now let's move on to our Hand class."
   ]
  },
  {
   "cell_type": "markdown",
   "metadata": {},
   "source": [
    "**Step 4: Create a Hand Class**<br>\n",
    "In addition to holding Card objects dealt from the Deck, the Hand class may be used to calculate the value of those cards using the values dictionary defined above. It may also need to adjust for the value of Aces when appropriate."
   ]
  },
  {
   "cell_type": "raw",
   "metadata": {},
   "source": []
  },
  {
   "cell_type": "code",
   "execution_count": 18,
   "metadata": {},
   "outputs": [
    {
     "name": "stdout",
     "output_type": "stream",
     "text": [
      "('Jack of Diamonds', 10)\n",
      "('Ace of Clubs', 21)\n",
      "your cards are worth(when your new ace = 11): 21\n",
      "would you like your ace to be worth 1 or 11(input 1 or 11)1\n",
      "your cards are now worth: 11\n",
      "Jack.\n",
      "Ace .\n"
     ]
    }
   ],
   "source": [
    "\n",
    "class Hand:\n",
    "    def __init__(self):\n",
    "        self.cards = []  # start with an empty list as we did in the Deck class\n",
    "        self.value = 0   # start with zero value\n",
    "        self.aces = 0    # add an attribute to keep track of aces\n",
    "        self.count = 0\n",
    "    def add_card(self,card):\n",
    "        self.cards.append(card)\n",
    "        self.value += values[card.rank]\n",
    "        return str(self.cards[-1]), self.value\n",
    "    def adjust_for_ace(self):\n",
    "        self.count = 0\n",
    "        for card in self.cards:\n",
    "            self.count += 1\n",
    "            if card.rank == 'Ace':\n",
    "                self.aces += 1\n",
    "                card.rank = 'Ace '\n",
    "                \n",
    "        if self.aces >= 1:\n",
    "            print(\"your cards are worth(when your new ace = 11): \" + str(self.value))\n",
    "            while True:\n",
    "                aceInput = input(\"would you like your ace to be worth 1 or 11(input 1 or 11)\")\n",
    "                if aceInput == '1':\n",
    "                    self.value -= 10\n",
    "                    self.aces -= 1\n",
    "                    print(\"your cards are now worth: \" + str(self.value))\n",
    "                    break\n",
    "                elif aceInput == '11':\n",
    "                    self.aces -= 1\n",
    "                    break\n",
    "                else:\n",
    "                    print(\"that doesnt seem right!\")\n",
    "                    continue\n",
    "                    \n",
    "x = Hand()\n",
    "print(x.add_card(y.deal()))\n",
    "print(x.add_card(y.deal()))\n",
    "x.adjust_for_ace()\n",
    "print(x.cards[0].rank+ \".\")\n",
    "print(x.cards[1].rank+ \".\")"
   ]
  },
  {
   "cell_type": "markdown",
   "metadata": {},
   "source": [
    "**Step 5: Create a Chips Class**<br>\n",
    "In addition to decks of cards and hands, we need to keep track of a Player's starting chips, bets, and ongoing winnings. This could be done using global variables, but in the spirit of object oriented programming, let's make a Chips class instead!"
   ]
  },
  {
   "cell_type": "code",
   "execution_count": 7,
   "metadata": {
    "collapsed": true
   },
   "outputs": [],
   "source": [
    "class Chips:\n",
    "    def __init__(self):\n",
    "        self.total = 100  # This can be set to a default value or supplied by a user input\n",
    "        self.bet = 0\n",
    "    def win_bet(self):\n",
    "        self.total += self.bet\n",
    "    def lose_bet(self):\n",
    "        print(\"You lost \" + self.bet + \"chips\")\n",
    "z = Chips()"
   ]
  },
  {
   "cell_type": "markdown",
   "metadata": {},
   "source": [
    "### Function Defintions\n",
    "A lot of steps are going to be repetitive. That's where functions come in! The following steps are guidelines - add or remove functions as needed in your own program."
   ]
  },
  {
   "cell_type": "markdown",
   "metadata": {},
   "source": [
    "**Step 6: Write a function for taking bets**<br>\n",
    "Since we're asking the user for an integer value, this would be a good place to use <code>try</code>/<code>except</code>. Remember to check that a Player's bet can be covered by their available chips."
   ]
  },
  {
   "cell_type": "code",
   "execution_count": 8,
   "metadata": {
    "collapsed": true
   },
   "outputs": [],
   "source": [
    "def take_bet(chips):\n",
    "    print(\"number of chips = \" + str(chips.total))\n",
    "    while True:\n",
    "        try:\n",
    "            chips.bet = int(input('Enter your bet: '))\n",
    "            if chips.bet > chips.total:\n",
    "                print(\"Amount bet must be below total number of chips\")\n",
    "                continue\n",
    "                \n",
    "        except:\n",
    "            print(\"Oops! there was a problem!\")\n",
    "        else:\n",
    "            print(\"betting \" + str(chips.bet) + \" chip(s)\" )\n",
    "            chips.total -= chips.bet\n",
    "            print(\"number of chips(new) = \" + str(chips.total))\n",
    "            break\n"
   ]
  },
  {
   "cell_type": "markdown",
   "metadata": {},
   "source": [
    "###### **Step 7: Write a function for taking hits**<br>\n",
    "Either player can take hits until they bust. This function will be called during gameplay anytime a Player requests a hit, or a Dealer's hand is less than 17. It should take in Deck and Hand objects as arguments, and deal one card off the deck and add it to the Hand. You may want it to check for aces in the event that a player's hand exceeds 21."
   ]
  },
  {
   "cell_type": "code",
   "execution_count": 9,
   "metadata": {},
   "outputs": [
    {
     "name": "stdout",
     "output_type": "stream",
     "text": [
      "0\n",
      "10\n",
      "['Queen', 'Spades']\n",
      "[['Nine', 'Spades'], ['Five', 'Hearts'], ['Queen', 'Diamonds'], ['Jack', 'Clubs'], ['Six', 'Clubs'], ['Eight', 'Clubs'], ['Six', 'Diamonds'], ['King', 'Spades'], ['Ace', 'Hearts'], ['Queen', 'Clubs'], ['Four', 'Clubs'], ['Two', 'Spades'], ['Nine', 'Hearts'], ['Four', 'Hearts'], ['Five', 'Clubs'], ['Four', 'Diamonds'], ['Eight', 'Hearts'], ['Five', 'Spades'], ['Ace', 'Spades'], ['Two', 'Hearts'], ['Seven', 'Diamonds'], ['Three', 'Diamonds'], ['King', 'Clubs'], ['Ace', 'Diamonds'], ['Six', 'Hearts'], ['Nine', 'Diamonds'], ['Four', 'Spades'], ['Ten', 'Clubs'], ['Three', 'Spades'], ['Three', 'Clubs'], ['Eight', 'Diamonds'], ['Jack', 'Diamonds'], ['King', 'Hearts'], ['Ten', 'Hearts'], ['Ten', 'Diamonds'], ['Two', 'Diamonds'], ['Nine', 'Clubs'], ['Three', 'Hearts'], ['Five', 'Diamonds'], ['Ten', 'Spades'], ['Ace', 'Clubs'], ['King', 'Diamonds'], ['Jack', 'Hearts'], ['Two', 'Clubs'], ['Seven', 'Spades'], ['Queen', 'Hearts'], ['Six', 'Spades'], ['Jack', 'Spades'], ['Eight', 'Spades'], ['Seven', 'Hearts'], ['Seven', 'Clubs']]\n",
      "0\n",
      "0\n"
     ]
    }
   ],
   "source": [
    "def hit(deck,hand):\n",
    "    if hand.value < 21:\n",
    "        hand.add_card(deck.deal())\n",
    "    if hand.value == 21:\n",
    "        print(\"you already have 21!\")\n",
    "        playing = False\n",
    "     \n",
    "h = hit(y,x)\n",
    "print(x.aces)\n",
    "print(x.value)\n",
    "print(x.cards[0:2])\n",
    "print(y.deck)\n",
    "print(x.aces)\n",
    "print(x.count)"
   ]
  },
  {
   "cell_type": "markdown",
   "metadata": {},
   "source": [
    "**Step 8: Write a function prompting the Player to Hit or Stand**<br>\n",
    "This function should accept the deck and the player's hand as arguments, and assign playing as a global variable.<br>\n",
    "If the Player Hits, employ the hit() function above. If the Player Stands, set the playing variable to False - this will control the behavior of a <code>while</code> loop later on in our code."
   ]
  },
  {
   "cell_type": "code",
   "execution_count": 10,
   "metadata": {
    "collapsed": true
   },
   "outputs": [],
   "source": [
    "def hit_or_stand():\n",
    "    global playing  # to control an upcoming while loop\n",
    "    hitStand = input('Hit or Stand?: ')\n",
    "    while hitStand.lower() != 'hit' and hitStand.lower() != 'stand':\n",
    "        hitStand = input('Hit or Stand?: ')\n",
    "    if hitStand.lower() == 'hit':\n",
    "        playing = True\n",
    "        return True\n",
    "    else:\n",
    "        playing = False\n",
    "        return False"
   ]
  },
  {
   "cell_type": "markdown",
   "metadata": {},
   "source": [
    "**Step 9: Write functions to display cards**<br>\n",
    "When the game starts, and after each time Player takes a card, the dealer's first card is hidden and all of Player's cards are visible. At the end of the hand all cards are shown, and you may want to show each hand's total value. Write a function for each of these scenarios."
   ]
  },
  {
   "cell_type": "code",
   "execution_count": 11,
   "metadata": {
    "collapsed": true
   },
   "outputs": [],
   "source": [
    "def show_some(player,dealer):\n",
    "    \n",
    "    print(dealer[1:])\n",
    "    \n",
    "    \n",
    "def show_all(player,dealer):\n",
    "    \n",
    "    print(player.cards)\n",
    "    print(player.value)"
   ]
  },
  {
   "cell_type": "markdown",
   "metadata": {},
   "source": [
    "**Step 10: Write functions to handle end of game scenarios**<br>\n",
    "Remember to pass player's hand, dealer's hand and chips as needed."
   ]
  },
  {
   "cell_type": "code",
   "execution_count": 12,
   "metadata": {
    "collapsed": true
   },
   "outputs": [],
   "source": [
    "def player_wins():\n",
    "    print(\"YOU WIN!\")\n",
    "    \n",
    "def dealer_busts():\n",
    "    print(\"YOU WIN THE DEALER BUSTED\")\n",
    "    \n",
    "def dealer_wins():\n",
    "    print(\"YOU LOSE! I guess he got lucky.\")\n",
    "    \n",
    "def push():\n",
    "    pass"
   ]
  },
  {
   "cell_type": "markdown",
   "metadata": {},
   "source": [
    "### And now on to the game!!"
   ]
  },
  {
   "cell_type": "code",
   "execution_count": 28,
   "metadata": {},
   "outputs": [
    {
     "name": "stdout",
     "output_type": "stream",
     "text": [
      "hello and welcome to blackjack. By: Nebil Ozer\n",
      "You start with 100 chips. you gain chips at a 1:1 rate, and can choose to quit after any round.\n",
      "number of chips = 100\n",
      "Enter your bet: 50\n",
      "betting 50 chip(s)\n",
      "number of chips(new) = 50\n",
      "CPU's hand: HIDDENCARD, King of Hearts\n",
      "\n",
      "player's hand: Eight of Clubs, Nine of Hearts\n",
      "\n",
      "player's card value: 17\n",
      "Hit or Stand?: stand\n",
      "CPU's hand: HIDDENCARD, King of Hearts\n",
      "\n",
      "player's hand: Eight of Clubs, Nine of Hearts\n",
      "\n",
      "player's card value: 17\n",
      "-----DEALER TURN-----\n",
      "CPU 's hand: Three of Hearts, King of Hearts\n",
      "\n",
      "dealer hits!\n",
      "CPU 's hand: Three of Hearts, King of Hearts, Three of Clubs\n",
      "\n",
      "dealer hits!\n",
      "you already have 21!\n",
      "CPU 's hand: Three of Hearts, King of Hearts, Three of Clubs, Five of Diamonds\n",
      "\n",
      "value of CPU hand:  21\n",
      "You lost. guess he got lucky\n",
      "chips total:  50\n",
      "play again? y/nn\n"
     ]
    },
    {
     "ename": "NameError",
     "evalue": "name 'n' is not defined",
     "output_type": "error",
     "traceback": [
      "\u001b[1;31m---------------------------------------------------------------------------\u001b[0m",
      "\u001b[1;31mNameError\u001b[0m                                 Traceback (most recent call last)",
      "\u001b[1;32m<ipython-input-28-55cc2320ad84>\u001b[0m in \u001b[0;36m<module>\u001b[1;34m()\u001b[0m\n\u001b[0;32m    113\u001b[0m     \u001b[0mprint\u001b[0m\u001b[1;33m(\u001b[0m\u001b[1;34m\"chips total: \"\u001b[0m\u001b[1;33m,\u001b[0m \u001b[0mpchips\u001b[0m\u001b[1;33m.\u001b[0m\u001b[0mtotal\u001b[0m\u001b[1;33m)\u001b[0m\u001b[1;33m\u001b[0m\u001b[0m\n\u001b[0;32m    114\u001b[0m     \u001b[1;31m# Ask to play again\u001b[0m\u001b[1;33m\u001b[0m\u001b[1;33m\u001b[0m\u001b[0m\n\u001b[1;32m--> 115\u001b[1;33m     \u001b[1;32mif\u001b[0m \u001b[0minput\u001b[0m\u001b[1;33m(\u001b[0m\u001b[1;34m\"play again? y/n\"\u001b[0m\u001b[1;33m)\u001b[0m \u001b[1;33m==\u001b[0m \u001b[0mn\u001b[0m\u001b[1;33m:\u001b[0m\u001b[1;33m\u001b[0m\u001b[0m\n\u001b[0m\u001b[0;32m    116\u001b[0m         \u001b[1;32mbreak\u001b[0m\u001b[1;33m\u001b[0m\u001b[0m\n",
      "\u001b[1;31mNameError\u001b[0m: name 'n' is not defined"
     ]
    }
   ],
   "source": [
    "b = True\n",
    "\n",
    "def printcard(hand,who):\n",
    "    e = 0\n",
    "    print(who + \"'s hand: \", end = '')\n",
    "    if who  == \"player\":\n",
    "        e = 0\n",
    "    elif who == \"CPU\":\n",
    "        e = 2\n",
    "        print(\"HIDDENCARD, \", end = '')\n",
    "    else:\n",
    "        pass\n",
    "    while e < len(hand.cards):\n",
    "\n",
    "            print(hand.cards[e] + \" of \" + hand.cards[e + 1] , end = \"\")\n",
    "            e += 2\n",
    "            if e == len(hand.cards): pass \n",
    "            else: print(\", \", end = \"\")\n",
    "            \n",
    "    print(\"\\n\")\n",
    "    if who == \"player\":\n",
    "        print(who + \"'s card value: \" + str(hand.value))\n",
    "def check21(hand):\n",
    "    if hand.value >= 21:\n",
    "        return False\n",
    "    else:\n",
    "        return True\n",
    "while True:\n",
    "    print(\"hello and welcome to blackjack. By: Nebil Ozer\")\n",
    "    print(\"You start with 100 chips. you gain chips at a 1:1 rate, and can choose to quit after any round.\")\n",
    "    phand = 0\n",
    "    dhand = 2\n",
    "    # Create & shuffle the deck, deal two cards to each player\n",
    "    import random\n",
    "\n",
    "    suits = ('Hearts','Diamonds','Spades','Clubs')\n",
    "    ranks = ('Two','Three','Four','Five','Six','Seven','Eight','Nine','Ten','Jack','Queen','King','Ace')\n",
    "    values = {'Two':2, 'Three':3, 'Four':4, 'Five':5, 'Six':6, 'Seven':7, 'Eight':8, 'Nine':9, 'Ten':10, 'Jack':10,\n",
    "             'Queen':10, 'King':10, 'Ace':11}\n",
    "\n",
    "    playing = True\n",
    "    deck = Deck(suits,ranks)\n",
    "    deck.shuffle()\n",
    "    dealer_hand = Hand()\n",
    "    player_hand = Hand()\n",
    "    \n",
    "    \n",
    "    \n",
    "        \n",
    "        \n",
    "    # Set up the Player's chips\n",
    "    \n",
    "    # Prompt the Player for their bet\n",
    "    pchips = Chips()\n",
    "    take_bet(pchips)\n",
    "    \n",
    "    # Show cards (but keep one dealer card hidden)\n",
    "    hit(deck,player_hand)\n",
    "    hit(deck,player_hand)\n",
    "    hit(deck,dealer_hand)\n",
    "    hit(deck,dealer_hand)\n",
    "    printcard(dealer_hand,\"CPU\")\n",
    "    printcard(player_hand,\"player\")\n",
    "    player_hand.adjust_for_ace()\n",
    "    while playing:  \n",
    "        \n",
    "        # Prompt for Player to Hit or Stand\n",
    "        if check21(player_hand):\n",
    "            if hit_or_stand():\n",
    "                hit(deck,player_hand)\n",
    "                player_hand.adjust_for_ace()\n",
    "                print(b)\n",
    "        elif player_hand.value == 21:\n",
    "            print(\"YOU WON! got 21!\")\n",
    "            b = False\n",
    "            break\n",
    "        else:\n",
    "            print(\"YOU LOST! BUSTED!\")\n",
    "            b = False\n",
    "            print(b)\n",
    "            break\n",
    "        # Show cards (but keep one dealer card hidden)\n",
    "        \n",
    "        printcard(dealer_hand,\"CPU\")\n",
    "        printcard(player_hand,\"player\")\n",
    "    print(\"-----DEALER TURN-----\")\n",
    "    # If Player hasn't busted, play Dealer's hand until Dealer reaches 17\n",
    "    if b:\n",
    "        \n",
    "        while dealer_hand.value < 17:\n",
    "            printcard(dealer_hand, \"CPU \")\n",
    "            print(\"dealer hits!\")\n",
    "            hit(deck,dealer_hand)\n",
    "    \n",
    "        \n",
    "        # Show all cards\n",
    "    if b:\n",
    "        printcard(dealer_hand, \"CPU \")\n",
    "        print(\"value of CPU hand: \", dealer_hand.value)\n",
    "        # Run different winning scenarios\n",
    "        if dealer_hand.value <= 21:\n",
    "            if player_hand.value > dealer_hand.value:\n",
    "                print(\"YOU WIN! GG\")\n",
    "                player += pchips.bet*2\n",
    "            elif player_hand.value < dealer_hand.value:\n",
    "                print(\"You lost. guess he got lucky\")\n",
    "                \n",
    "            else:\n",
    "                print(\"TIE\")\n",
    "                player += pchips\n",
    "                \n",
    "    # Inform Player of their chips total \n",
    "    print(\"chips total: \", pchips.total)\n",
    "    # Ask to play again\n",
    "    if input(\"play again? y/n\") == \"n\":\n",
    "        break"
   ]
  },
  {
   "cell_type": "markdown",
   "metadata": {},
   "source": [
    "And that's it! Remember, these steps may differ significantly from your own solution. That's OK! Keep working on different sections of your program until you get the desired results. It takes a lot of time and patience! As always, feel free to post questions and comments to the QA Forums.\n",
    "# Good job!"
   ]
  },
  {
   "cell_type": "code",
   "execution_count": null,
   "metadata": {
    "collapsed": true
   },
   "outputs": [],
   "source": []
  }
 ],
 "metadata": {
  "kernelspec": {
   "display_name": "Python 3",
   "language": "python",
   "name": "python3"
  },
  "language_info": {
   "codemirror_mode": {
    "name": "ipython",
    "version": 3
   },
   "file_extension": ".py",
   "mimetype": "text/x-python",
   "name": "python",
   "nbconvert_exporter": "python",
   "pygments_lexer": "ipython3",
   "version": "3.6.3"
  }
 },
 "nbformat": 4,
 "nbformat_minor": 1
}
